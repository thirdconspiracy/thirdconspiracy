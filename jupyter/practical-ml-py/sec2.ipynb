{
  "nbformat": 4,
  "nbformat_minor": 0,
  "metadata": {
    "colab": {
      "provenance": [],
      "authorship_tag": "ABX9TyMUahJ4z0u9f4vXCOpQzyX4",
      "include_colab_link": true
    },
    "kernelspec": {
      "name": "python3",
      "display_name": "Python 3"
    },
    "language_info": {
      "name": "python"
    }
  },
  "cells": [
    {
      "cell_type": "markdown",
      "metadata": {
        "id": "view-in-github",
        "colab_type": "text"
      },
      "source": [
        "<a href=\"https://colab.research.google.com/github/thirdconspiracy/thirdconspiracy/blob/master/jupyter/practical-ml-py/sec2.ipynb\" target=\"_parent\"><img src=\"https://colab.research.google.com/assets/colab-badge.svg\" alt=\"Open In Colab\"/></a>"
      ]
    },
    {
      "cell_type": "markdown",
      "source": [
        "https://colab.research.google.com/github/msiddalingaiah/MachineLearning/blob/master/Notebooks/Python_Quick_Start.ipynb#scrollTo=14ciHg-BSava"
      ],
      "metadata": {
        "id": "ZgYbMNfjn-md"
      }
    },
    {
      "cell_type": "markdown",
      "source": [
        "## Formatting Examples\n",
        "\n",
        "formatting using printf, format, and string interpolation"
      ],
      "metadata": {
        "id": "-Ql7JJWfGnMG"
      }
    },
    {
      "cell_type": "code",
      "execution_count": 22,
      "metadata": {
        "id": "APRMhqeAvh5M",
        "colab": {
          "base_uri": "https://localhost:8080/"
        },
        "outputId": "96a5417b-9857-471e-f3de-230ac5d2693d"
      },
      "outputs": [
        {
          "output_type": "stream",
          "name": "stdout",
          "text": [
            "pf: Hello World! \n",
            "f: Hello World! \n",
            "s.i: Hello World!\n"
          ]
        }
      ],
      "source": [
        "e = 2.1718281828\n",
        "answer = 42\n",
        "message = 'Hello World!'\n",
        "\n",
        "tmp = \"pf: %s \\n\" % message + \"f: {0} \\n\".format(message) + f's.i: {message}'\n",
        "print(tmp)"
      ]
    },
    {
      "cell_type": "markdown",
      "source": [
        "## Dot Product\n",
        "working with vectors"
      ],
      "metadata": {
        "id": "n2tbVSF-VMuT"
      }
    },
    {
      "cell_type": "code",
      "source": [
        "vector_a = [1., 2., 3.]\n",
        "vector_b = [2., 2., 2.]\n",
        "\n",
        "val = 0\n",
        "for i in range(len(vector_a)):\n",
        "    val = val + (vector_a[i]*vector_b[i])\n",
        "\n",
        "print(f'The dot product is {val:.2f}')"
      ],
      "metadata": {
        "colab": {
          "base_uri": "https://localhost:8080/"
        },
        "id": "lTbekEKDVL0P",
        "outputId": "bfb71089-c22f-4ac2-f544-26d185a9278b"
      },
      "execution_count": 31,
      "outputs": [
        {
          "output_type": "stream",
          "name": "stdout",
          "text": [
            "The dot product is 12.00\n"
          ]
        }
      ]
    },
    {
      "cell_type": "markdown",
      "source": [
        "## Dictionaries"
      ],
      "metadata": {
        "id": "gs0B7LAmYP5h"
      }
    },
    {
      "cell_type": "code",
      "source": [
        "menu = { 'Breakfast': 'eggs', 'lunch': 'salad', 'dinner': 'hamburger', 'Brunch': 'unknown'}\n",
        "\n",
        "for meal, food in menu.items():\n",
        "    print(f'meal: {meal}, food: {food}')\n",
        "\n",
        "menu['Brunch'] = 'muffin'\n",
        "\n",
        "for meal, food in menu.items():\n",
        "    print(f'meal: {meal}, food: {food}')\n"
      ],
      "metadata": {
        "colab": {
          "base_uri": "https://localhost:8080/"
        },
        "id": "TEpqjSfTZVI8",
        "outputId": "eec98ba4-7f6e-4399-e50d-5e8dbf270394"
      },
      "execution_count": 36,
      "outputs": [
        {
          "output_type": "stream",
          "name": "stdout",
          "text": [
            "meal: Breakfast, food: eggs\n",
            "meal: lunch, food: salad\n",
            "meal: dinner, food: hamburger\n",
            "meal: Brunch, food: unknown\n",
            "meal: Breakfast, food: eggs\n",
            "meal: lunch, food: salad\n",
            "meal: dinner, food: hamburger\n",
            "meal: Brunch, food: muffin\n"
          ]
        }
      ]
    },
    {
      "cell_type": "markdown",
      "source": [
        "## Functions and Methods\n",
        "\n",
        "Function takes argument\n",
        " (e.g. len(a))\n",
        "\n",
        "Methods are extension functions where the first input is 'self'\n",
        " (e.g. a.upper())"
      ],
      "metadata": {
        "id": "v7Aushb_ag-n"
      }
    },
    {
      "cell_type": "code",
      "source": [
        "def average(array):\n",
        "    n = len(array)\n",
        "    total = 0.0\n",
        "    for a in array:\n",
        "        total += a\n",
        "    return total / n\n",
        "\n",
        "print(average([1,2,3]))"
      ],
      "metadata": {
        "colab": {
          "base_uri": "https://localhost:8080/"
        },
        "id": "0ks4K7yDbS0f",
        "outputId": "4d57487e-bf53-42c2-8c69-1c1294c2a3ea"
      },
      "execution_count": 39,
      "outputs": [
        {
          "output_type": "stream",
          "name": "stdout",
          "text": [
            "2.0\n"
          ]
        }
      ]
    },
    {
      "cell_type": "markdown",
      "source": [
        "## Classes"
      ],
      "metadata": {
        "id": "_XESik8NckhX"
      }
    },
    {
      "cell_type": "code",
      "source": [
        "class BankAccount(object):\n",
        "  def __init__(self, accountNumber, initialBalance, interestRate):\n",
        "    self.accountNumber = accountNumber\n",
        "    self.balance = initialBalance\n",
        "    self.interestRate = interestRate\n",
        "\n",
        "  def deposit(self, amount):\n",
        "    self.balance += amount\n",
        "\n",
        "  def withdraw(self, amount):\n",
        "    if self.balance >= amount:\n",
        "      self.balance -= amount\n",
        "      return amount\n",
        "    raise Exception('not enough $$$')\n",
        "\n",
        "  def addInterest(self):\n",
        "    self.balance *= 1.0 + self.interestRate/100.0\n",
        "\n",
        "  def transferTo(self, otherAccount, amount):\n",
        "    otherAccount.deposit(self.withdraw(amount))\n",
        "\n",
        "  def __str__(self):\n",
        "    return f'Account {self.accountNumber}, balance: {self.balance:.2f}'"
      ],
      "metadata": {
        "id": "X6FppryGcm2L"
      },
      "execution_count": 42,
      "outputs": []
    },
    {
      "cell_type": "code",
      "source": [
        "checking = BankAccount(101, 100.0, 1.0)\n",
        "savings = BankAccount(201, 1000.0, 5.0)\n",
        "\n",
        "print(checking)\n",
        "print(savings)\n",
        "\n",
        "checking.addInterest()\n",
        "savings.addInterest()\n",
        "\n",
        "print(checking)\n",
        "print(savings)\n",
        "\n",
        "savings.transferTo(checking, 500)\n",
        "\n",
        "print(checking)\n",
        "print(savings)\n"
      ],
      "metadata": {
        "colab": {
          "base_uri": "https://localhost:8080/"
        },
        "id": "drP7uTvxewYF",
        "outputId": "b6e85f20-192e-4ca3-aa03-174f4df744c5"
      },
      "execution_count": 45,
      "outputs": [
        {
          "output_type": "stream",
          "name": "stdout",
          "text": [
            "Account 101, balance: 100.00\n",
            "Account 201, balance: 1000.00\n",
            "Account 101, balance: 101.00\n",
            "Account 201, balance: 1050.00\n",
            "Account 101, balance: 601.00\n",
            "Account 201, balance: 550.00\n"
          ]
        }
      ]
    },
    {
      "cell_type": "code",
      "source": [
        "# raise exception\n",
        "savings.transferTo(checking, 1000)"
      ],
      "metadata": {
        "colab": {
          "base_uri": "https://localhost:8080/",
          "height": 304
        },
        "id": "imvzvhtgflSi",
        "outputId": "597af3eb-8f76-4a5a-95f7-07bf2a54f7e2"
      },
      "execution_count": 46,
      "outputs": [
        {
          "output_type": "error",
          "ename": "Exception",
          "evalue": "not enough $$$",
          "traceback": [
            "\u001b[0;31m---------------------------------------------------------------------------\u001b[0m",
            "\u001b[0;31mException\u001b[0m                                 Traceback (most recent call last)",
            "\u001b[0;32m<ipython-input-46-3d5c49b8df32>\u001b[0m in \u001b[0;36m<cell line: 0>\u001b[0;34m()\u001b[0m\n\u001b[1;32m      1\u001b[0m \u001b[0;31m# raise exception\u001b[0m\u001b[0;34m\u001b[0m\u001b[0;34m\u001b[0m\u001b[0m\n\u001b[0;32m----> 2\u001b[0;31m \u001b[0msavings\u001b[0m\u001b[0;34m.\u001b[0m\u001b[0mtransferTo\u001b[0m\u001b[0;34m(\u001b[0m\u001b[0mchecking\u001b[0m\u001b[0;34m,\u001b[0m \u001b[0;36m1000\u001b[0m\u001b[0;34m)\u001b[0m\u001b[0;34m\u001b[0m\u001b[0;34m\u001b[0m\u001b[0m\n\u001b[0m",
            "\u001b[0;32m<ipython-input-42-f718653d044a>\u001b[0m in \u001b[0;36mtransferTo\u001b[0;34m(self, otherAccount, amount)\u001b[0m\n\u001b[1;32m     18\u001b[0m \u001b[0;34m\u001b[0m\u001b[0m\n\u001b[1;32m     19\u001b[0m   \u001b[0;32mdef\u001b[0m \u001b[0mtransferTo\u001b[0m\u001b[0;34m(\u001b[0m\u001b[0mself\u001b[0m\u001b[0;34m,\u001b[0m \u001b[0motherAccount\u001b[0m\u001b[0;34m,\u001b[0m \u001b[0mamount\u001b[0m\u001b[0;34m)\u001b[0m\u001b[0;34m:\u001b[0m\u001b[0;34m\u001b[0m\u001b[0;34m\u001b[0m\u001b[0m\n\u001b[0;32m---> 20\u001b[0;31m     \u001b[0motherAccount\u001b[0m\u001b[0;34m.\u001b[0m\u001b[0mdeposit\u001b[0m\u001b[0;34m(\u001b[0m\u001b[0mself\u001b[0m\u001b[0;34m.\u001b[0m\u001b[0mwithdraw\u001b[0m\u001b[0;34m(\u001b[0m\u001b[0mamount\u001b[0m\u001b[0;34m)\u001b[0m\u001b[0;34m)\u001b[0m\u001b[0;34m\u001b[0m\u001b[0;34m\u001b[0m\u001b[0m\n\u001b[0m\u001b[1;32m     21\u001b[0m \u001b[0;34m\u001b[0m\u001b[0m\n\u001b[1;32m     22\u001b[0m   \u001b[0;32mdef\u001b[0m \u001b[0m__str__\u001b[0m\u001b[0;34m(\u001b[0m\u001b[0mself\u001b[0m\u001b[0;34m)\u001b[0m\u001b[0;34m:\u001b[0m\u001b[0;34m\u001b[0m\u001b[0;34m\u001b[0m\u001b[0m\n",
            "\u001b[0;32m<ipython-input-42-f718653d044a>\u001b[0m in \u001b[0;36mwithdraw\u001b[0;34m(self, amount)\u001b[0m\n\u001b[1;32m     12\u001b[0m       \u001b[0mself\u001b[0m\u001b[0;34m.\u001b[0m\u001b[0mbalance\u001b[0m \u001b[0;34m-=\u001b[0m \u001b[0mamount\u001b[0m\u001b[0;34m\u001b[0m\u001b[0;34m\u001b[0m\u001b[0m\n\u001b[1;32m     13\u001b[0m       \u001b[0;32mreturn\u001b[0m \u001b[0mamount\u001b[0m\u001b[0;34m\u001b[0m\u001b[0;34m\u001b[0m\u001b[0m\n\u001b[0;32m---> 14\u001b[0;31m     \u001b[0;32mraise\u001b[0m \u001b[0mException\u001b[0m\u001b[0;34m(\u001b[0m\u001b[0;34m'not enough $$$'\u001b[0m\u001b[0;34m)\u001b[0m\u001b[0;34m\u001b[0m\u001b[0;34m\u001b[0m\u001b[0m\n\u001b[0m\u001b[1;32m     15\u001b[0m \u001b[0;34m\u001b[0m\u001b[0m\n\u001b[1;32m     16\u001b[0m   \u001b[0;32mdef\u001b[0m \u001b[0maddInterest\u001b[0m\u001b[0;34m(\u001b[0m\u001b[0mself\u001b[0m\u001b[0;34m)\u001b[0m\u001b[0;34m:\u001b[0m\u001b[0;34m\u001b[0m\u001b[0;34m\u001b[0m\u001b[0m\n",
            "\u001b[0;31mException\u001b[0m: not enough $$$"
          ]
        }
      ]
    },
    {
      "cell_type": "markdown",
      "source": [
        "## Modules"
      ],
      "metadata": {
        "id": "hmp-E3-TgyQh"
      }
    },
    {
      "cell_type": "code",
      "source": [
        "import matplotlib.pyplot as plt\n",
        "import math\n",
        "\n",
        "x = [0.1*i for i in range(64)]\n",
        "sin = [math.sin(i) for i in x]\n",
        "cos = [math.cos(i) for i in x]\n",
        "parabola = [i**2 for i in x]\n",
        "expon = [e**i for i in x]\n",
        "loga = [math.log10(i) for i in x[1:] if i > 0]\n",
        "\n",
        "plt.plot(x, sin, label='sin(x)', color='blue', linewidth=2.5)\n",
        "plt.plot(x, cos, label='sin(x)', color='red', linewidth=1.5)\n",
        "#plt.plot(x, parabola, label='parabola(x)', color='green', linewidth=1.5)\n",
        "#plt.plot(x, expon, label='exponential(x)', color='orange', linewidth=1.5)\n",
        "plt.plot(x[1:], loga, label='log10(x)', color='purple', linewidth=1.5)\n",
        "plt.ylabel('y')\n",
        "plt.xlabel('x')\n",
        "plt.legend(loc='upper right')\n",
        "plt.show()"
      ],
      "metadata": {
        "colab": {
          "base_uri": "https://localhost:8080/",
          "height": 449
        },
        "id": "ROKzl-VXgz2o",
        "outputId": "45f3b32b-8145-4a82-e68b-f64301ee4ddd"
      },
      "execution_count": 75,
      "outputs": [
        {
          "output_type": "display_data",
          "data": {
            "text/plain": [
              "<Figure size 640x480 with 1 Axes>"
            ],
            "image/png": "[encoded data removed]"
          },
          "metadata": {}
        }
      ]
    },
    {
      "cell_type": "markdown",
      "source": [
        "## Passwords"
      ],
      "metadata": {
        "id": "Jg0T8SUNnmwf"
      }
    },
    {
      "cell_type": "code",
      "source": [
        "import getpass\n",
        "\n",
        "password = getpass.getpass('Your password: ')\n",
        "\n",
        "print(password)"
      ],
      "metadata": {
        "colab": {
          "base_uri": "https://localhost:8080/"
        },
        "id": "chEEqq6YnoGN",
        "outputId": "236c36b3-aaaf-4bd9-f414-96003e0906b6"
      },
      "execution_count": 76,
      "outputs": [
        {
          "output_type": "stream",
          "name": "stdout",
          "text": [
            "Your password··········\n",
            "test\n"
          ]
        }
      ]
    }
  ]
}