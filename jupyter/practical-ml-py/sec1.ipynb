{
  "nbformat": 4,
  "nbformat_minor": 0,
  "metadata": {
    "colab": {
      "provenance": [],
      "authorship_tag": "ABX9TyNoFsmM/zuBVHlFniTgr4rt"
    },
    "kernelspec": {
      "name": "python3",
      "display_name": "Python 3"
    },
    "language_info": {
      "name": "python"
    }
  },
  "cells": [
    {
      "cell_type": "markdown",
      "source": [
        "## Getting Started with Jupyter\n",
        "\n",
        "### Text\n",
        "> A cool quote\n",
        "\n",
        "Footnotes aren't MD but are supported by GFM[^1].\n",
        "\n",
        "### Table\n",
        "| key | value |\n",
        "|-----|-------|\n",
        "| one | 1     |\n",
        "| two | 2     |\n",
        "\n",
        "### Code Syntax\n",
        "```python\n",
        "s = \"python syntax\"\n",
        "print s\n",
        "```\n",
        "\n",
        "### LaTeX Quadratic equation\n",
        "$$ax^2 + bx + c = 0$$\n",
        "\n",
        "\n",
        "[^1]: https://docs.github.com/en/get-started/writing-on-github/getting-started-with-writing-and-formatting-on-github/basic-writing-and-formatting-syntax#footnotes\n"
      ],
      "metadata": {
        "id": "BddX8PHwx3EI"
      }
    },
    {
      "cell_type": "code",
      "execution_count": 1,
      "metadata": {
        "id": "APRMhqeAvh5M",
        "colab": {
          "base_uri": "https://localhost:8080/"
        },
        "outputId": "16e03233-a9df-45ae-f151-83350da8dcb5"
      },
      "outputs": [
        {
          "output_type": "stream",
          "name": "stdout",
          "text": [
            "CPU times: user 3 µs, sys: 0 ns, total: 3 µs\n",
            "Wall time: 7.63 µs\n",
            "Table of squares\n",
            "0 times 0 = 0\n",
            "1 times 1 = 1\n",
            "2 times 2 = 4\n",
            "3 times 3 = 9\n",
            "4 times 4 = 16\n",
            "5 times 5 = 25\n",
            "6 times 6 = 36\n",
            "7 times 7 = 49\n",
            "8 times 8 = 64\n",
            "9 times 9 = 81\n"
          ]
        }
      ],
      "source": [
        "%time\n",
        "print('Table of squares')\n",
        "for i in range(10):\n",
        "  print(f'{i} times {i} = {i*i}')"
      ]
    }
  ]
}