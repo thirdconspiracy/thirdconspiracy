{
  "nbformat": 4,
  "nbformat_minor": 0,
  "metadata": {
    "colab": {
      "provenance": [],
      "authorship_tag": "ABX9TyMofsauw3ZLaYoNaWvEP0jB"
    },
    "kernelspec": {
      "name": "python3",
      "display_name": "Python 3"
    },
    "language_info": {
      "name": "python"
    }
  },
  "cells": [
    {
      "cell_type": "markdown",
      "source": [
        "## Getting Started with Jupyter\n",
        "\n",
        "| key | value |\n",
        "|-----|-------|\n",
        "| one | 1     |\n",
        "| two | 2     |\n",
        "\n",
        "> A cool quote\n",
        "\n",
        "Footnotes aren't MD but are supported by GFM[^1].\n",
        "\n",
        "\n",
        "```python\n",
        "s = \"python syntax\"\n",
        "print s\n",
        "```\n",
        "\n",
        "[^1]: https://docs.github.com/en/get-started/writing-on-github/getting-started-with-writing-and-formatting-on-github/basic-writing-and-formatting-syntax#footnotes\n"
      ],
      "metadata": {
        "id": "BddX8PHwx3EI"
      }
    },
    {
      "cell_type": "code",
      "execution_count": null,
      "metadata": {
        "id": "APRMhqeAvh5M"
      },
      "outputs": [],
      "source": []
    }
  ]
}